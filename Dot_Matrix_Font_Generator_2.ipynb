{
 "cells": [
  {
   "cell_type": "code",
   "execution_count": 1,
   "metadata": {
    "collapsed": true
   },
   "outputs": [],
   "source": [
    "# The ASCII characters whose hex row values are represented by Hex_List_Row\n",
    "Character_List = [\"Dash\", \"Period\", \"Slash\", \"0\", \"1\", \"2\", \"3\", \"4\", \"5\", \"6\", \"7\", \"8\", \"9\", \"Colon\", \"A\", \"B\", \"C\", \"D\", \"E\", \"F\", \"G\", \"H\", \"I\", \"J\", \"K\", \"L\", \"M\", \"N\", \"O\", \"P\", \"Q\", \"R\", \"S\", \"T\", \"U\", \"V\", \"W\", \"X\", \"Y\", \"Z\" ]   "
   ]
  },
  {
   "cell_type": "code",
   "execution_count": 2,
   "metadata": {
    "collapsed": true
   },
   "outputs": [],
   "source": [
    "# The characters -, ., /, 0, ..., 9, :, A, ..., Z in 7 by 5 dot matrix font (https://www.ccsinfo.com/forum/viewtopic.php?p=34689)  \n",
    "Hex_List_Row = [[0x00, 0x00, 0x00, 0x1f, 0x00, 0x00, 0x00], [0x00, 0x00, 0x00, 0x00, 0x00, 0x0c, 0x0c], [0x01, 0x01, 0x02, 0x04, 0x08, 0x10, 0x10], [0x0e, 0x11, 0x13, 0x15, 0x19, 0x11, 0x0e], [0x04, 0x0c, 0x04, 0x04, 0x04, 0x04, 0x0e], [0x0e, 0x11, 0x01, 0x02, 0x04, 0x08, 0x1f], [0x0e, 0x11, 0x01, 0x06, 0x01, 0x11, 0x0e], [0x02, 0x06, 0x0a, 0x12, 0x1f, 0x02, 0x02], [0x1f, 0x10, 0x1e, 0x01, 0x01, 0x11, 0x0e], [0x06, 0x08, 0x10, 0x1e, 0x11, 0x11, 0x0e], [0x1f, 0x01, 0x02, 0x04, 0x08, 0x08, 0x08], [0x0e, 0x11, 0x11, 0x0e, 0x11, 0x11, 0x0e], [0x0e, 0x11, 0x11, 0x0f, 0x01, 0x02, 0x0c], [0x00, 0x0c, 0x0c, 0x00, 0x0c, 0x0c, 0x00], [0x04, 0x0a, 0x11, 0x11, 0x1f, 0x11, 0x11], [0x1e, 0x11, 0x11, 0x1e, 0x11, 0x11, 0x1e], [0x0e, 0x11, 0x10, 0x10, 0x10, 0x11, 0x0e], [0x1e, 0x09, 0x09, 0x09, 0x09, 0x09, 0x1e], [0x1f, 0x10, 0x10, 0x1c, 0x10, 0x10, 0x1f], [0x1f, 0x10, 0x10, 0x1f, 0x10, 0x10, 0x10], [0x0e, 0x11, 0x10, 0x10, 0x13, 0x11, 0x0f], [0x11, 0x11, 0x11, 0x1f, 0x11, 0x11, 0x11], [0x0e, 0x04, 0x04, 0x04, 0x04, 0x04, 0x0e], [0x1f, 0x02, 0x02, 0x02, 0x02, 0x12, 0x0c], [0x11, 0x12, 0x14, 0x18, 0x14, 0x12, 0x11], [0x10, 0x10, 0x10, 0x10, 0x10, 0x10, 0x1f], [0x11, 0x1b, 0x15, 0x11, 0x11, 0x11, 0x11], [0x11, 0x11, 0x19, 0x15, 0x13, 0x11, 0x11], [0x0e, 0x11, 0x11, 0x11, 0x11, 0x11, 0x0e], [0x1e, 0x11, 0x11, 0x1e, 0x10, 0x10, 0x10], [0x0e, 0x11, 0x11, 0x11, 0x15, 0x12, 0x0d], [0x1e, 0x11, 0x11, 0x1e, 0x14, 0x12, 0x11], [0x0e, 0x11, 0x10, 0x0e, 0x01, 0x11, 0x0e], [0x1f, 0x04, 0x04, 0x04, 0x04, 0x04, 0x04], [0x11, 0x11, 0x11, 0x11, 0x11, 0x11, 0x0e], [0x11, 0x11, 0x11, 0x11, 0x11, 0x0a, 0x04], [0x11, 0x11, 0x11, 0x15, 0x15, 0x1b, 0x11], [0x11, 0x11, 0x0a, 0x04, 0x0a, 0x11, 0x11], [0x11, 0x11, 0x0a, 0x04, 0x04, 0x04, 0x04], [0x1f, 0x01, 0x02, 0x04, 0x08, 0x10, 0x1f]]           "
   ]
  },
  {
   "cell_type": "code",
   "execution_count": 3,
   "metadata": {
    "collapsed": true
   },
   "outputs": [],
   "source": [
    "#making a character to hex dictionary rather than have two separate lists as it will be easier to update\n",
    "Character_Hex_Dict = {}\n",
    "for i in range(0,len(Character_List)):\n",
    "    Character_Hex_Dict[Character_List[i] + \"_7_5\"] = Hex_List_Row[i]"
   ]
  },
  {
   "cell_type": "code",
   "execution_count": 4,
   "metadata": {
    "collapsed": true
   },
   "outputs": [],
   "source": [
    "#updating Character_Hex_Dictionary with 5 x 5 dot matrix fonts and alternate 7 x 5 fonts.\n",
    "Character_Hex_Dict[\"A_5_5\"] = ['0x4', '0xa', '0x11', '0x1f', '0x11']\n",
    "Character_Hex_Dict[\"B_5_5\"] = ['0x1e', '0x11', '0x1e', '0x11', '0x1e']\n",
    "Character_Hex_Dict[\"C_5_5\"] = ['0xe', '0x11', '0x10', '0x11', '0xe']\n",
    "Character_Hex_Dict[\"D_5_5\"] = ['0x1e', '0x11', '0x11', '0x11', '0x1e']\n",
    "Character_Hex_Dict[\"E_5_5\"] = ['0x1f', '0x10', '0x1e', '0x10', '0x1f']\n",
    "Character_Hex_Dict[\"F_5_5\"] = ['0x1f', '0x10', '0x1e', '0x10', '0x10']\n",
    "Character_Hex_Dict[\"G_5_5\"] = ['0xf', '0x10', '0x17', '0x11', '0xf']\n",
    "Character_Hex_Dict[\"H_5_5\"] = ['0x11', '0x11', '0x1f', '0x11', '0x11']\n",
    "Character_Hex_Dict[\"I_5_5\"] = ['0xe', '0x4', '0x4', '0x4', '0xe']\n",
    "Character_Hex_Dict[\"J_5_5\"] = ['0x7', '0x2', '0x2', '0x12', '0xc']\n",
    "Character_Hex_Dict[\"K_5_5\"] = ['0x12', '0x14', '0x1c', '0x12', '0x11']\n",
    "Character_Hex_Dict[\"L_5_5\"] = ['0x10', '0x10', '0x10', '0x10', '0x1f']\n",
    "Character_Hex_Dict[\"M_5_5\"] = ['0x11', '0x1b', '0x15', '0x11', '0x11']\n",
    "Character_Hex_Dict[\"N_5_5\"] = ['0x11', '0x19', '0x15', '0x13', '0x11']\n",
    "Character_Hex_Dict[\"O_5_5\"] = ['0xe', '0x11', '0x11', '0x11', '0xe']\n",
    "Character_Hex_Dict[\"P_5_5\"] = ['0x1e', '0x11', '0x1e', '0x10', '0x10']\n",
    "Character_Hex_Dict[\"Q_5_5\"] = ['0xe', '0x11', '0x15', '0x12', '0xf']\n",
    "Character_Hex_Dict[\"R_5_5\"] = ['0x1e', '0x11', '0x1e', '0x12', '0x11']\n",
    "Character_Hex_Dict[\"S_5_5\"] = ['0xf', '0x10', '0xe', '0x1', '0x1e']\n",
    "Character_Hex_Dict[\"T_5_5\"] = ['0x1f', '0x4', '0x4', '0x4', '0x4']\n",
    "Character_Hex_Dict[\"U_5_5\"] = ['0x11', '0x11', '0x11', '0x11', '0xe']\n",
    "Character_Hex_Dict[\"V_5_5\"] = ['0x11', '0x11', '0x11', '0xa', '0x4']\n",
    "Character_Hex_Dict[\"W_5_5\"] = ['0x11', '0x11', '0x15', '0x15', '0xa']\n",
    "Character_Hex_Dict[\"X_5_5\"] = ['0x11', '0xa', '0x4', '0xa', '0x11']\n",
    "Character_Hex_Dict[\"Y_5_5\"] = ['0x11', '0xa', '0x4', '0x4', '0x4']\n",
    "Character_Hex_Dict[\"Z_5_5\"] = ['0x1f', '0x2', '0x4', '0x8', '0x1f']\n",
    "Character_Hex_Dict[\"0_5_5\"] = ['0xe', '0x11', '0x11', '0x11', '0xe']\n",
    "Character_Hex_Dict[\"1_5_5\"] = ['0x4', '0xc', '0x4', '0x4', '0xe']\n",
    "Character_Hex_Dict[\"2_5_5\"] = ['0xe', '0x11', '0x6', '0x8', '0x1f']\n",
    "Character_Hex_Dict[\"3_5_5\"] = ['0x1f', '0x2', '0x6', '0x11', '0xe']\n",
    "Character_Hex_Dict[\"4_5_5\"] = ['0x2', '0x6', '0xa', '0x1f', '0x2']\n",
    "Character_Hex_Dict[\"5_5_5\"] = ['0x1f', '0x10', '0x1e', '0x1', '0x1e']\n",
    "Character_Hex_Dict[\"6_5_5\"] = ['0x6', '0x8', '0x1e', '0x11', '0xe']\n",
    "Character_Hex_Dict[\"7_5_5\"] = ['0x1f', '0x2', '0x4', '0x8', '0x8']\n",
    "Character_Hex_Dict[\"8_5_5\"] = ['0xe', '0x11', '0xe', '0x11', '0xe']\n",
    "Character_Hex_Dict[\"9_5_5\"] = ['0xe', '0x11', '0xf', '0x2', '0xc']\n",
    "Character_Hex_Dict[\"Colon_5_5\"] = ['0x0', '0x4', '0x0', '0x4', '0x0']\n",
    "Character_Hex_Dict[\"Slash_5_5\"] = ['0x0', '0x2', '0x4', '0x8', '0x0']\n",
    "Character_Hex_Dict[\"Dash_5_5\"] = ['0x0', '0x0', '0xe', '0x0', '0x0']\n",
    "Character_Hex_Dict[\"Period_5_5\"] = ['0x0', '0x0', '0x4', '0x0', '0x0']\n",
    "Character_Hex_Dict[\"A_7_5_Alternate\"] = ['0x1f', '0x11', '0x11', '0x1f', '0x11', '0x11', '0x11']\n",
    "Character_Hex_Dict[\"D_7_5_Alternate\"] = ['0x1e', '0x11', '0x11', '0x11', '0x11', '0x11', '0x1e']\n",
    "Character_Hex_Dict[\"E_7_5\"] = ['0x1f', '0x10', '0x10', '0x1e', '0x10', '0x10', '0x1f']\n",
    "Character_Hex_Dict[\"G_7_5_Alternate\"] = ['0xe', '0x11', '0x10', '0x17', '0x11', '0x11', '0xe']\n",
    "Character_Hex_Dict[\"Slash_7_5_Alternate\"] = ['0x0', '0x1', '0x2', '0x4', '0x8', '0x10', '0x0']\n",
    "Character_Hex_Dict[\"0_7_5_Alternate\"] = ['0xe', '0x11', '0x11', '0x11', '0x11', '0x11', '0xe']\n",
    "Character_Hex_Dict[\"2_7_5_Alternate\"] = ['0xe', '0x11', '0x1', '0x6', '0x8', '0x10', '0x1f']\n",
    "Character_Hex_Dict[\"3_7_5_Alternate\"] = ['0x1f', '0x1', '0x2', '0x6', '0x1', '0x11', '0xe']\n",
    "Character_Hex_Dict[\"3_7_5_Alternate_1\"] = ['0x1f', '0x2', '0x4', '0x2', '0x1', '0x11', '0xe']\n",
    "Character_Hex_Dict[\"5_7_5_Alternate\"] = ['0x1f', '0x10', '0x10', '0x1e', '0x1', '0x11', '0xe']\n",
    "Character_Hex_Dict[\"6_5_5_Alternate\"] = ['0xe', '0x10', '0x1e', '0x11', '0xe']\n",
    "Character_Hex_Dict[\"6_7_5\"] = ['0x7', '0x8', '0x10', '0x1e', '0x11', '0x11', '0xe']"
   ]
  },
  {
   "cell_type": "code",
   "execution_count": 5,
   "metadata": {
    "collapsed": true
   },
   "outputs": [],
   "source": [
    "# converts a list of hexadecimal characters to a list of decimal numbers. The first element of DecList is \n",
    "# the number of rows in the image \n",
    "def HextoDec(HexList):\n",
    "    DecList = []\n",
    "    DecList.append(len(HexList))\n",
    "    for i in range(0, len(HexList)):\n",
    "        hex_string = str(HexList[i])\n",
    "        DecList.append(int(hex_string, 0))\n",
    "    return DecList    "
   ]
  },
  {
   "cell_type": "code",
   "execution_count": 6,
   "metadata": {
    "collapsed": true
   },
   "outputs": [],
   "source": [
    "# The first number in DecList is the number of rows and this is also the first number of TupleList. Each of the \n",
    "# following numbers in the decimal list represents each row of the n by 5 matrix, where n is either 5 or 7. \n",
    "# We convert the ith decimal number to binary by repeatedly dividing each decimal number by 2 and noting the \n",
    "# remainder. The first remainder corresponds to the least significant digit in the binary representation of the \n",
    "# number and to counter = 0. Whenever the remainder = 1, we append (4-counter, (n-1)-i) to the list of tuples. \n",
    "# This is because tuple (0,0) corresponds to the lower right-hand corner and tuple (4,n-1) corresponds to the \n",
    "# upper left-hand corner of the n by 5 matrix.\n",
    "def DecToTuple(DecList):\n",
    "    TupleList = []\n",
    "    TupleList.append(DecList[0])\n",
    "    n = len(DecList)\n",
    "    for i in range(1, n):\n",
    "        counter = 0\n",
    "        quotient = DecList[i] // 2\n",
    "        remainder = DecList[i] % 2\n",
    "        while(quotient != 0):\n",
    "            if (remainder != 0):\n",
    "                TupleList.append((4-counter, n-i))\n",
    "            remainder = quotient % 2\n",
    "            quotient = quotient // 2\n",
    "            counter = counter + 1\n",
    "        if(quotient == 0 and remainder == 1):\n",
    "            TupleList.append((4-counter, n-i))\n",
    "    return TupleList     "
   ]
  },
  {
   "cell_type": "code",
   "execution_count": 7,
   "metadata": {
    "collapsed": true
   },
   "outputs": [],
   "source": [
    "#automatically generates a LaTeX file from the file name LaTexFile and the corresponding tuple list. For a 5 x 5 dot\n",
    "#matrix font, the vertical spacing is twice the horizontal spacing. Hence, the first element of TupleList is used to \n",
    "#set the scaling parameter.\n",
    "def TupleToLatexFile(LaTeXFile, TupleList):\n",
    "    f= open(LaTeXFile,\"w+\")\n",
    "    f.write(r\"\\documentclass{article}\")\n",
    "    f.write(\"\\n\")\n",
    "    f.write(r\"\\pagenumbering{gobble}\")\n",
    "    f.write(\"\\n\")\n",
    "    f.write(r\"\\usepackage[paperheight=0.55cm,paperwidth=0.55cm, top = 0.03cm, bottom = 0.03cm]{geometry}\")\n",
    "    f.write(\"\\n\")\n",
    "    f.write(r\"\\usepackage{tikz}\")\n",
    "    f.write(\"\\n\")\n",
    "    f.write(r\"\\begin{document}\")\n",
    "    f.write(\"\\n\")\n",
    "    f.write(r\"  \\begin{center}\")\n",
    "    f.write(\"\\n\")\n",
    "    if TupleList[0] == 7:\n",
    "        f.write(r\"  \\begin{tikzpicture}[scale=.07]\")\n",
    "    else:\n",
    "        f.write(r\"  \\begin{tikzpicture}[yscale=.1, xscale=0.05]\")\n",
    "    f.write(\"\\n\")\n",
    "    for i in range(1, len(TupleList)):\n",
    "        f.write(r\"  \\fill[black] \" + str(TupleList[i]) + \" circle (0.4cm);\")\n",
    "        f.write(\"\\n\")\n",
    "    f.write(r\"  \\end{tikzpicture}\")\n",
    "    f.write(\"\\n\")\n",
    "    f.write(r\"  \\end{center}\")\n",
    "    f.write(\"\\n\")\n",
    "    f.write(r\"\\end{document}\")\n",
    "    f.write(\"\\n\")\n",
    "    f.close()"
   ]
  },
  {
   "cell_type": "code",
   "execution_count": 8,
   "metadata": {
    "collapsed": true
   },
   "outputs": [],
   "source": [
    "#from TupleList, automatically generates a .tex, .pdf, and .tiff file and places it in the correct directory.\n",
    "import os\n",
    "\n",
    "def TexPDFTiff(directory, charClass, charName, TupleList):\n",
    "    texFile = r\"/home/seasnake/Desktop/JPL/\" + directory + r\"/\" + charClass + r\"/\" + charName + \".tex\" \n",
    "    pdfFile = r\"/home/seasnake/Desktop/JPL/\" + directory + r\"/\" + charClass + r\"/\" + charName + \".pdf\" \n",
    "    tiffFile = r\"/home/seasnake/Desktop/JPL/\" + directory + r\"/\" + charClass + r\"/\" + charName + \".tiff\" \n",
    "    TupleToLatexFile(texFile, TupleList)\n",
    "    os.system(\"pdflatex -output-directory \" + r\"/home/seasnake/Desktop/JPL/\" + directory + r\"/\" + charClass + \" \" + texFile)\n",
    "    os.system(\"convert -density 300 \" + pdfFile + \" \" + tiffFile)\n",
    "    "
   ]
  },
  {
   "cell_type": "code",
   "execution_count": 9,
   "metadata": {
    "collapsed": true
   },
   "outputs": [],
   "source": [
    "#generates images with missing dots\n",
    "def Missing_Dots(directory, charClass, charName, TupleList):\n",
    "    for i in range(1,len(TupleList)):\n",
    "        ithTupleList = list(TupleList)\n",
    "        del ithTupleList[i]\n",
    "        charName_i = charName + \"_\" + str(i)\n",
    "        TexPDFTiff(directory, charClass, charName_i, ithTupleList)"
   ]
  },
  {
   "cell_type": "code",
   "execution_count": 10,
   "metadata": {
    "collapsed": true
   },
   "outputs": [],
   "source": [
    "#generates images where one of the dots has been moved by a (x,y) shift.\n",
    "import random\n",
    "import operator\n",
    "\n",
    "def Wiggle(directory, charClass, charName, TupleList):\n",
    "    for count in range(0,10):\n",
    "        for i in range(1, len(TupleList)):\n",
    "            ithTupleList = list(TupleList)\n",
    "            xRandomNeg = random.uniform(-0.09,-0.05)\n",
    "            xRandomPos = random.uniform(0.05, 0.09)\n",
    "            if abs(xRandomNeg) > xRandomPos:\n",
    "                xShift = xRandomNeg\n",
    "            else:\n",
    "                xShift = xRandomPos\n",
    "            yRandomNeg = random.uniform(-0.09,-0.05)\n",
    "            yRandomPos = random.uniform(0.05, 0.09)\n",
    "            if abs(yRandomNeg) > yRandomPos:\n",
    "                yShift = yRandomNeg\n",
    "            else:\n",
    "                yShift = yRandomPos    \n",
    "            ithTupleList[i] = tuple(map(operator.add, TupleList[i], (xShift, yShift)))\n",
    "            charName_i_count = charName + \"_\" + str(i) + \"_\" + str(count)\n",
    "            TexPDFTiff(directory, charClass, charName_i_count, ithTupleList)"
   ]
  },
  {
   "cell_type": "code",
   "execution_count": 11,
   "metadata": {
    "collapsed": false
   },
   "outputs": [],
   "source": [
    "#for each key in Character_Hex_Dictionary, generates the information necessary to send to TexPDFTiff and to \n",
    "#Missing_Dots and Wiggle\n",
    "import os\n",
    "\n",
    "def TupleToTiff(Character_Hex_Dictionary, directory):\n",
    "    for charName, HexList in Character_Hex_Dictionary.items():\n",
    "        charClass = charName.split(\"_\")[0]\n",
    "        DecList = HextoDec(HexList)\n",
    "        TupleList = DecToTuple(DecList)\n",
    "        TexPDFTiff(directory, charClass, charName, TupleList)\n",
    "        #Missing_Dots(directory, charClass, charName, TupleList)\n",
    "        Wiggle(directory, charClass, charName, TupleList)"
   ]
  },
  {
   "cell_type": "code",
   "execution_count": 12,
   "metadata": {
    "collapsed": false
   },
   "outputs": [],
   "source": [
    "TupleToTiff(Character_Hex_Dict, \"Dot_Matrix_Test_7\")"
   ]
  },
  {
   "cell_type": "code",
   "execution_count": null,
   "metadata": {
    "collapsed": true
   },
   "outputs": [],
   "source": []
  },
  {
   "cell_type": "code",
   "execution_count": null,
   "metadata": {
    "collapsed": true
   },
   "outputs": [],
   "source": []
  }
 ],
 "metadata": {
  "anaconda-cloud": {},
  "kernelspec": {
   "display_name": "Python [default]",
   "language": "python",
   "name": "python2"
  },
  "language_info": {
   "codemirror_mode": {
    "name": "ipython",
    "version": 2
   },
   "file_extension": ".py",
   "mimetype": "text/x-python",
   "name": "python",
   "nbconvert_exporter": "python",
   "pygments_lexer": "ipython2",
   "version": "2.7.12"
  }
 },
 "nbformat": 4,
 "nbformat_minor": 1
}
